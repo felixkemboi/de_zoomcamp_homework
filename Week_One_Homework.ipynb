{
  "nbformat": 4,
  "nbformat_minor": 0,
  "metadata": {
    "colab": {
      "provenance": [],
      "authorship_tag": "ABX9TyNFI7CqdbJY3axaRF7yXESQ",
      "include_colab_link": true
    },
    "kernelspec": {
      "name": "python3",
      "display_name": "Python 3"
    },
    "language_info": {
      "name": "python"
    }
  },
  "cells": [
    {
      "cell_type": "markdown",
      "metadata": {
        "id": "view-in-github",
        "colab_type": "text"
      },
      "source": [
        "<a href=\"https://colab.research.google.com/github/felixkemboi/de_zoomcamp_homework/blob/main/Week_One_Homework.ipynb\" target=\"_parent\"><img src=\"https://colab.research.google.com/assets/colab-badge.svg\" alt=\"Open In Colab\"/></a>"
      ]
    },
    {
      "cell_type": "code",
      "execution_count": 1,
      "metadata": {
        "colab": {
          "base_uri": "https://localhost:8080/"
        },
        "id": "6mULE87k4VOM",
        "outputId": "33a5bea3-fa17-48f8-98cb-9e6e91261438"
      },
      "outputs": [
        {
          "output_type": "stream",
          "name": "stdout",
          "text": [
            "Collecting wget\n",
            "  Downloading wget-3.2.zip (10 kB)\n",
            "  Preparing metadata (setup.py) ... \u001b[?25l\u001b[?25hdone\n",
            "Building wheels for collected packages: wget\n",
            "  Building wheel for wget (setup.py) ... \u001b[?25l\u001b[?25hdone\n",
            "  Created wheel for wget: filename=wget-3.2-py3-none-any.whl size=9656 sha256=38dbab84c15f48f31e3d2677f6fe18c9c174d9d8952b574e2a23c29f1c1be715\n",
            "  Stored in directory: /root/.cache/pip/wheels/40/b3/0f/a40dbd1c6861731779f62cc4babcb234387e11d697df70ee97\n",
            "Successfully built wget\n",
            "Installing collected packages: wget\n",
            "Successfully installed wget-3.2\n"
          ]
        }
      ],
      "source": [
        "!pip install wget"
      ]
    },
    {
      "cell_type": "code",
      "source": [
        "import pandas as pd\n",
        "import wget\n",
        "import gzip\n",
        "import shutil\n",
        "import os\n",
        "from datetime import datetime\n",
        "\n",
        "def download_and_prepare_data():\n",
        "    if not os.path.exists('green_tripdata_2019-10.csv'):\n",
        "        print(\"Downloading green taxi data...\")\n",
        "        wget.download('https://github.com/DataTalksClub/nyc-tlc-data/releases/download/green/green_tripdata_2019-10.csv.gz')\n",
        "        with gzip.open('green_tripdata_2019-10.csv.gz', 'rb') as f_in:\n",
        "            with open('green_tripdata_2019-10.csv', 'wb') as f_out:\n",
        "                shutil.copyfileobj(f_in, f_out)\n",
        "\n",
        "    if not os.path.exists('taxi_zone_lookup.csv'):\n",
        "        print(\"\\nDownloading zone lookup data...\")\n",
        "        wget.download('https://github.com/DataTalksClub/nyc-tlc-data/releases/download/misc/taxi_zone_lookup.csv')\n",
        "\n",
        "def question3_trip_segments(df):\n",
        "    mask = (df['lpep_pickup_datetime'] >= '2019-10-01') & (df['lpep_pickup_datetime'] < '2019-11-01')\n",
        "    october_trips = df[mask]\n",
        "\n",
        "    segments = {\n",
        "        'up_to_1': (october_trips['trip_distance'] <= 1).sum(),\n",
        "        'between_1_3': ((october_trips['trip_distance'] > 1) & (october_trips['trip_distance'] <= 3)).sum(),\n",
        "        'between_3_7': ((october_trips['trip_distance'] > 3) & (october_trips['trip_distance'] <= 7)).sum(),\n",
        "        'between_7_10': ((october_trips['trip_distance'] > 7) & (october_trips['trip_distance'] <= 10)).sum(),\n",
        "        'over_10': (october_trips['trip_distance'] > 10).sum()\n",
        "    }\n",
        "\n",
        "    return segments\n",
        "\n",
        "def question4_longest_trip(df):\n",
        "    df['pickup_date'] = pd.to_datetime(df['lpep_pickup_datetime']).dt.date\n",
        "    result = df.groupby('pickup_date')['trip_distance'].max()\n",
        "    max_distance_date = result.idxmax()\n",
        "    return max_distance_date\n",
        "\n",
        "def question5_top_pickup_zones(df, zones_df):\n",
        "    mask = pd.to_datetime(df['lpep_pickup_datetime']).dt.date == pd.to_datetime('2019-10-18').date()\n",
        "    oct_18_trips = df[mask]\n",
        "    merged = oct_18_trips.merge(zones_df, left_on='PULocationID', right_on='LocationID')\n",
        "    zone_totals = merged.groupby('Zone')['total_amount'].sum()\n",
        "    top_zones = zone_totals[zone_totals > 13000].sort_values(ascending=False)\n",
        "    return top_zones\n",
        "\n",
        "def question6_largest_tip(df, zones_df):\n",
        "    mask = pd.to_datetime(df['lpep_pickup_datetime']).dt.to_period('M') == pd.Period('2019-10')\n",
        "    october_trips = df[mask]\n",
        "    merged = october_trips.merge(\n",
        "        zones_df,\n",
        "        left_on='PULocationID',\n",
        "        right_on='LocationID'\n",
        "    ).merge(\n",
        "        zones_df,\n",
        "        left_on='DOLocationID',\n",
        "        right_on='LocationID',\n",
        "        suffixes=('_pickup', '_dropoff')\n",
        "    )\n",
        "    east_harlem_trips = merged[merged['Zone_pickup'] == 'East Harlem North']\n",
        "    max_tip_zone = east_harlem_trips.loc[east_harlem_trips['tip_amount'].idxmax(), 'Zone_dropoff']\n",
        "    return max_tip_zone\n",
        "\n",
        "def main():\n",
        "    download_and_prepare_data()\n",
        "    print(\"Loading taxi trip data...\")\n",
        "    df = pd.read_csv('green_tripdata_2019-10.csv')\n",
        "    print(\"Loading zone lookup data...\")\n",
        "    zones_df = pd.read_csv('taxi_zone_lookup.csv')\n",
        "    print(\"\\nQuestion 3 - Trip Segments:\")\n",
        "    segments = question3_trip_segments(df)\n",
        "    print(f\"Up to 1 mile: {segments['up_to_1']}\")\n",
        "    print(f\"1-3 miles: {segments['between_1_3']}\")\n",
        "    print(f\"3-7 miles: {segments['between_3_7']}\")\n",
        "    print(f\"7-10 miles: {segments['between_7_10']}\")\n",
        "    print(f\"Over 10 miles: {segments['over_10']}\")\n",
        "    print(\"\\nQuestion 4 - Longest Trip Day:\")\n",
        "    longest_day = question4_longest_trip(df)\n",
        "    print(f\"Date with longest trip: {longest_day}\")\n",
        "    print(\"\\nQuestion 5 - Top Pickup Zones:\")\n",
        "    top_zones = question5_top_pickup_zones(df, zones_df)\n",
        "    print(\"Zones with total_amount > $13,000:\")\n",
        "    print(top_zones)\n",
        "    print(\"\\nQuestion 6 - Largest Tip:\")\n",
        "    max_tip_zone = question6_largest_tip(df, zones_df)\n",
        "    print(f\"Zone with largest tip from East Harlem North: {max_tip_zone}\")\n",
        "\n",
        "if __name__ == \"__main__\":\n",
        "    main()"
      ],
      "metadata": {
        "colab": {
          "base_uri": "https://localhost:8080/"
        },
        "id": "XJBPFoBa4mXD",
        "outputId": "4441ba5b-2908-4d78-d811-473eabcaad0d"
      },
      "execution_count": 3,
      "outputs": [
        {
          "output_type": "stream",
          "name": "stdout",
          "text": [
            "Loading taxi trip data...\n"
          ]
        },
        {
          "output_type": "stream",
          "name": "stderr",
          "text": [
            "<ipython-input-3-d720f5a87879>:68: DtypeWarning: Columns (3) have mixed types. Specify dtype option on import or set low_memory=False.\n",
            "  df = pd.read_csv('green_tripdata_2019-10.csv')\n"
          ]
        },
        {
          "output_type": "stream",
          "name": "stdout",
          "text": [
            "Loading zone lookup data...\n",
            "\n",
            "Question 3 - Trip Segments:\n",
            "Up to 1 mile: 104830\n",
            "1-3 miles: 198995\n",
            "3-7 miles: 109642\n",
            "7-10 miles: 27686\n",
            "Over 10 miles: 35201\n",
            "\n",
            "Question 4 - Longest Trip Day:\n",
            "Date with longest trip: 2019-10-31\n",
            "\n",
            "Question 5 - Top Pickup Zones:\n",
            "Zones with total_amount > $13,000:\n",
            "Zone\n",
            "East Harlem North      18686.68\n",
            "East Harlem South      16797.26\n",
            "Morningside Heights    13029.79\n",
            "Name: total_amount, dtype: float64\n",
            "\n",
            "Question 6 - Largest Tip:\n",
            "Zone with largest tip from East Harlem North: JFK Airport\n"
          ]
        }
      ]
    }
  ]
}